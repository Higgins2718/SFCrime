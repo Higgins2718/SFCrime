{
  "nbformat": 4,
  "nbformat_minor": 0,
  "metadata": {
    "colab": {
      "name": "sfcrimeblogpost.ipynb",
      "provenance": [],
      "authorship_tag": "ABX9TyPW32/0V8S57qvUqOqWop5M",
      "include_colab_link": true
    },
    "kernelspec": {
      "name": "python3",
      "display_name": "Python 3"
    }
  },
  "cells": [
    {
      "cell_type": "markdown",
      "metadata": {
        "id": "view-in-github",
        "colab_type": "text"
      },
      "source": [
        "<a href=\"https://colab.research.google.com/github/Higgins2718/SFCrime/blob/master/sfcrimeblogpost.ipynb\" target=\"_parent\"><img src=\"https://colab.research.google.com/assets/colab-badge.svg\" alt=\"Open In Colab\"/></a>"
      ]
    },
    {
      "cell_type": "code",
      "metadata": {
        "id": "jrE8DVbY6gkj",
        "colab_type": "code",
        "colab": {}
      },
      "source": [
        "!pip install arrow"
      ],
      "execution_count": 0,
      "outputs": []
    },
    {
      "cell_type": "code",
      "metadata": {
        "id": "dYDaThCiDlb0",
        "colab_type": "code",
        "colab": {}
      },
      "source": [
        "import pandas as pd\n",
        "import numpy as np\n",
        "import matplotlib.pyplot as plt\n",
        "import arrow\n",
        "\n",
        "def reformat(date_string):\n",
        "  frmt = 'YYYY/MM/DD HH:mm:ss A'\n",
        "  return arrow.get(date_string, frmt).datetime\n",
        "from datetime import datetime\n",
        "\n",
        "def reformat_2(time_string):\n",
        "  frmt = 'YYYY/MM/DD HH:mm:ss A'\n",
        "  timestamp = datetime.strptime(time_string, '%H:%M')\n",
        "  \n",
        "  return timestamp.time()\n",
        "\n",
        "\n",
        "old_crime = pd.read_csv(\"/content/Police_Department_Incident_Reports__Historical_2003_to_May_2018.csv\")\n",
        "new_crime = pd.read_csv(\"/content/Police_Department_Incident_Reports__2018_to_Present.csv\")\n",
        "\n",
        "new_crime['Incident Datetime'] = new_crime['Incident Datetime'].apply(reformat)"
      ],
      "execution_count": 0,
      "outputs": []
    },
    {
      "cell_type": "code",
      "metadata": {
        "id": "em_G7CuFaqZq",
        "colab_type": "code",
        "colab": {
          "base_uri": "https://localhost:8080/",
          "height": 374
        },
        "outputId": "c76050c3-26ab-4c6c-fac3-953ba279cebd"
      },
      "source": [
        "new_crime.min(axis = 0) "
      ],
      "execution_count": 9,
      "outputs": [
        {
          "output_type": "execute_result",
          "data": {
            "text/plain": [
              "Incident Year                                           2.018000e+03\n",
              "Row ID                                                  6.186871e+10\n",
              "Incident ID                                             6.186870e+05\n",
              "Incident Number                                         0.000000e+00\n",
              "CAD Number                                              1.000000e+00\n",
              "Incident Code                                           1.000000e+03\n",
              "CNN                                                     2.001300e+07\n",
              "Supervisor District                                     1.000000e+00\n",
              "Latitude                                                3.770799e+01\n",
              "Longitude                                              -1.225113e+02\n",
              "SF Find Neighborhoods                                   1.000000e+00\n",
              "Current Police Districts                                1.000000e+00\n",
              "Current Supervisor Districts                            1.000000e+00\n",
              "Analysis Neighborhoods                                  1.000000e+00\n",
              "HSOC Zones as of 2018-06-05                             1.000000e+00\n",
              "OWED Public Spaces                                      3.000000e+00\n",
              "Central Market/Tenderloin Boundary Polygon - Updated    1.000000e+00\n",
              "Parks Alliance CPSI (27+TL sites)                       1.000000e+00\n",
              "ESNCAG - Boundary File                                  1.000000e+00\n",
              "Areas of Vulnerability, 2016                            1.000000e+00\n",
              "dtype: float64"
            ]
          },
          "metadata": {
            "tags": []
          },
          "execution_count": 9
        }
      ]
    },
    {
      "cell_type": "code",
      "metadata": {
        "id": "MPZVK-6GD9N5",
        "colab_type": "code",
        "outputId": "3084dd42-1b6a-4b56-aec2-8145f114de43",
        "colab": {
          "base_uri": "https://localhost:8080/",
          "height": 34
        }
      },
      "source": [
        "old_crime.shape"
      ],
      "execution_count": 10,
      "outputs": [
        {
          "output_type": "execute_result",
          "data": {
            "text/plain": [
              "(1616831, 13)"
            ]
          },
          "metadata": {
            "tags": []
          },
          "execution_count": 10
        }
      ]
    },
    {
      "cell_type": "code",
      "metadata": {
        "id": "Qn3kAS7QD_Hq",
        "colab_type": "code",
        "outputId": "59eb7fd2-0864-4c0c-b29f-4e6d6b091a4b",
        "colab": {
          "base_uri": "https://localhost:8080/",
          "height": 34
        }
      },
      "source": [
        "# Why does this dataset have 57% as many crimes as the older one (2003-18),\n",
        "# despite spanning only two years?\n",
        "new_crime.shape"
      ],
      "execution_count": 11,
      "outputs": [
        {
          "output_type": "execute_result",
          "data": {
            "text/plain": [
              "(320060, 36)"
            ]
          },
          "metadata": {
            "tags": []
          },
          "execution_count": 11
        }
      ]
    },
    {
      "cell_type": "code",
      "metadata": {
        "id": "TIJheGzC20EA",
        "colab_type": "code",
        "colab": {
          "base_uri": "https://localhost:8080/",
          "height": 51
        },
        "outputId": "fc07fcc6-fabf-4e06-f09c-1260397d3e49"
      },
      "source": [
        "# Confirm no duplicates in dataframe\n",
        "\n",
        "new_crime.duplicated().value_counts()"
      ],
      "execution_count": 12,
      "outputs": [
        {
          "output_type": "execute_result",
          "data": {
            "text/plain": [
              "False    320060\n",
              "dtype: int64"
            ]
          },
          "metadata": {
            "tags": []
          },
          "execution_count": 12
        }
      ]
    },
    {
      "cell_type": "code",
      "metadata": {
        "id": "QC25RW8VMTer",
        "colab_type": "code",
        "outputId": "cc807e6d-915a-4f07-a2be-55b4c9d4d086",
        "colab": {
          "base_uri": "https://localhost:8080/",
          "height": 564
        }
      },
      "source": [
        "new_crime.head()"
      ],
      "execution_count": 13,
      "outputs": [
        {
          "output_type": "execute_result",
          "data": {
            "text/html": [
              "<div>\n",
              "<style scoped>\n",
              "    .dataframe tbody tr th:only-of-type {\n",
              "        vertical-align: middle;\n",
              "    }\n",
              "\n",
              "    .dataframe tbody tr th {\n",
              "        vertical-align: top;\n",
              "    }\n",
              "\n",
              "    .dataframe thead th {\n",
              "        text-align: right;\n",
              "    }\n",
              "</style>\n",
              "<table border=\"1\" class=\"dataframe\">\n",
              "  <thead>\n",
              "    <tr style=\"text-align: right;\">\n",
              "      <th></th>\n",
              "      <th>Incident Datetime</th>\n",
              "      <th>Incident Date</th>\n",
              "      <th>Incident Time</th>\n",
              "      <th>Incident Year</th>\n",
              "      <th>Incident Day of Week</th>\n",
              "      <th>Report Datetime</th>\n",
              "      <th>Row ID</th>\n",
              "      <th>Incident ID</th>\n",
              "      <th>Incident Number</th>\n",
              "      <th>CAD Number</th>\n",
              "      <th>Report Type Code</th>\n",
              "      <th>Report Type Description</th>\n",
              "      <th>Filed Online</th>\n",
              "      <th>Incident Code</th>\n",
              "      <th>Incident Category</th>\n",
              "      <th>Incident Subcategory</th>\n",
              "      <th>Incident Description</th>\n",
              "      <th>Resolution</th>\n",
              "      <th>Intersection</th>\n",
              "      <th>CNN</th>\n",
              "      <th>Police District</th>\n",
              "      <th>Analysis Neighborhood</th>\n",
              "      <th>Supervisor District</th>\n",
              "      <th>Latitude</th>\n",
              "      <th>Longitude</th>\n",
              "      <th>point</th>\n",
              "      <th>SF Find Neighborhoods</th>\n",
              "      <th>Current Police Districts</th>\n",
              "      <th>Current Supervisor Districts</th>\n",
              "      <th>Analysis Neighborhoods</th>\n",
              "      <th>HSOC Zones as of 2018-06-05</th>\n",
              "      <th>OWED Public Spaces</th>\n",
              "      <th>Central Market/Tenderloin Boundary Polygon - Updated</th>\n",
              "      <th>Parks Alliance CPSI (27+TL sites)</th>\n",
              "      <th>ESNCAG - Boundary File</th>\n",
              "      <th>Areas of Vulnerability, 2016</th>\n",
              "    </tr>\n",
              "  </thead>\n",
              "  <tbody>\n",
              "    <tr>\n",
              "      <th>0</th>\n",
              "      <td>2019-05-01 01:00:00+00:00</td>\n",
              "      <td>2019/05/01</td>\n",
              "      <td>01:00</td>\n",
              "      <td>2019</td>\n",
              "      <td>Wednesday</td>\n",
              "      <td>2019/06/12 08:27:00 PM</td>\n",
              "      <td>81097515200</td>\n",
              "      <td>810975</td>\n",
              "      <td>190424067</td>\n",
              "      <td>191634131.0</td>\n",
              "      <td>II</td>\n",
              "      <td>Initial</td>\n",
              "      <td>NaN</td>\n",
              "      <td>15200</td>\n",
              "      <td>Offences Against The Family And Children</td>\n",
              "      <td>Other</td>\n",
              "      <td>Domestic Violence (secondary only)</td>\n",
              "      <td>Open or Active</td>\n",
              "      <td>40TH AVE \\ IRVING ST</td>\n",
              "      <td>27789000.0</td>\n",
              "      <td>Taraval</td>\n",
              "      <td>Sunset/Parkside</td>\n",
              "      <td>4.0</td>\n",
              "      <td>37.762569</td>\n",
              "      <td>-122.499627</td>\n",
              "      <td>POINT (-122.49962745519909 37.76256939715695)</td>\n",
              "      <td>39.0</td>\n",
              "      <td>10.0</td>\n",
              "      <td>7.0</td>\n",
              "      <td>35.0</td>\n",
              "      <td>NaN</td>\n",
              "      <td>NaN</td>\n",
              "      <td>NaN</td>\n",
              "      <td>NaN</td>\n",
              "      <td>NaN</td>\n",
              "      <td>1.0</td>\n",
              "    </tr>\n",
              "    <tr>\n",
              "      <th>1</th>\n",
              "      <td>2019-06-22 07:45:00+00:00</td>\n",
              "      <td>2019/06/22</td>\n",
              "      <td>07:45</td>\n",
              "      <td>2019</td>\n",
              "      <td>Saturday</td>\n",
              "      <td>2019/06/22 08:05:00 AM</td>\n",
              "      <td>81465564020</td>\n",
              "      <td>814655</td>\n",
              "      <td>190450880</td>\n",
              "      <td>191730737.0</td>\n",
              "      <td>II</td>\n",
              "      <td>Initial</td>\n",
              "      <td>NaN</td>\n",
              "      <td>64020</td>\n",
              "      <td>Non-Criminal</td>\n",
              "      <td>Other</td>\n",
              "      <td>Mental Health Detention</td>\n",
              "      <td>Open or Active</td>\n",
              "      <td>06TH ST \\ MINNA ST</td>\n",
              "      <td>24285000.0</td>\n",
              "      <td>Southern</td>\n",
              "      <td>South of Market</td>\n",
              "      <td>6.0</td>\n",
              "      <td>37.780535</td>\n",
              "      <td>-122.408161</td>\n",
              "      <td>POINT (-122.40816079455212 37.7805353858225)</td>\n",
              "      <td>32.0</td>\n",
              "      <td>1.0</td>\n",
              "      <td>10.0</td>\n",
              "      <td>34.0</td>\n",
              "      <td>1.0</td>\n",
              "      <td>NaN</td>\n",
              "      <td>1.0</td>\n",
              "      <td>NaN</td>\n",
              "      <td>NaN</td>\n",
              "      <td>2.0</td>\n",
              "    </tr>\n",
              "    <tr>\n",
              "      <th>2</th>\n",
              "      <td>2019-06-03 16:16:00+00:00</td>\n",
              "      <td>2019/06/03</td>\n",
              "      <td>16:16</td>\n",
              "      <td>2019</td>\n",
              "      <td>Monday</td>\n",
              "      <td>2019/06/03 04:16:00 PM</td>\n",
              "      <td>80769875000</td>\n",
              "      <td>807698</td>\n",
              "      <td>190397016</td>\n",
              "      <td>191533509.0</td>\n",
              "      <td>IS</td>\n",
              "      <td>Initial Supplement</td>\n",
              "      <td>NaN</td>\n",
              "      <td>75000</td>\n",
              "      <td>Missing Person</td>\n",
              "      <td>Missing Person</td>\n",
              "      <td>Found Person</td>\n",
              "      <td>Open or Active</td>\n",
              "      <td>EGBERT AVE \\ INGALLS ST</td>\n",
              "      <td>20447000.0</td>\n",
              "      <td>Bayview</td>\n",
              "      <td>Bayview Hunters Point</td>\n",
              "      <td>10.0</td>\n",
              "      <td>37.721600</td>\n",
              "      <td>-122.390745</td>\n",
              "      <td>POINT (-122.39074534279013 37.72159985216247)</td>\n",
              "      <td>88.0</td>\n",
              "      <td>2.0</td>\n",
              "      <td>9.0</td>\n",
              "      <td>1.0</td>\n",
              "      <td>NaN</td>\n",
              "      <td>NaN</td>\n",
              "      <td>NaN</td>\n",
              "      <td>NaN</td>\n",
              "      <td>NaN</td>\n",
              "      <td>2.0</td>\n",
              "    </tr>\n",
              "    <tr>\n",
              "      <th>3</th>\n",
              "      <td>2018-11-16 16:34:00+00:00</td>\n",
              "      <td>2018/11/16</td>\n",
              "      <td>16:34</td>\n",
              "      <td>2018</td>\n",
              "      <td>Friday</td>\n",
              "      <td>2018/11/16 04:34:00 PM</td>\n",
              "      <td>73857915041</td>\n",
              "      <td>738579</td>\n",
              "      <td>180870806</td>\n",
              "      <td>183202539.0</td>\n",
              "      <td>IS</td>\n",
              "      <td>Initial Supplement</td>\n",
              "      <td>NaN</td>\n",
              "      <td>15041</td>\n",
              "      <td>Offences Against The Family And Children</td>\n",
              "      <td>Family Offenses</td>\n",
              "      <td>Elder Adult or Dependent Abuse (not Embezzleme...</td>\n",
              "      <td>Cite or Arrest Adult</td>\n",
              "      <td>MERCHANT ST \\ KEARNY ST</td>\n",
              "      <td>24773000.0</td>\n",
              "      <td>Central</td>\n",
              "      <td>Chinatown</td>\n",
              "      <td>3.0</td>\n",
              "      <td>37.794860</td>\n",
              "      <td>-122.404876</td>\n",
              "      <td>POINT (-122.40487561154785 37.794859532228344)</td>\n",
              "      <td>104.0</td>\n",
              "      <td>6.0</td>\n",
              "      <td>3.0</td>\n",
              "      <td>6.0</td>\n",
              "      <td>NaN</td>\n",
              "      <td>18.0</td>\n",
              "      <td>NaN</td>\n",
              "      <td>NaN</td>\n",
              "      <td>NaN</td>\n",
              "      <td>2.0</td>\n",
              "    </tr>\n",
              "    <tr>\n",
              "      <th>4</th>\n",
              "      <td>2019-05-27 02:25:00+00:00</td>\n",
              "      <td>2019/05/27</td>\n",
              "      <td>02:25</td>\n",
              "      <td>2019</td>\n",
              "      <td>Monday</td>\n",
              "      <td>2019/05/27 02:55:00 AM</td>\n",
              "      <td>80509204134</td>\n",
              "      <td>805092</td>\n",
              "      <td>190378555</td>\n",
              "      <td>191470256.0</td>\n",
              "      <td>II</td>\n",
              "      <td>Initial</td>\n",
              "      <td>NaN</td>\n",
              "      <td>4134</td>\n",
              "      <td>Assault</td>\n",
              "      <td>Simple Assault</td>\n",
              "      <td>Battery</td>\n",
              "      <td>Open or Active</td>\n",
              "      <td>LAGUNA ST \\ UNION ST</td>\n",
              "      <td>26583000.0</td>\n",
              "      <td>Northern</td>\n",
              "      <td>Marina</td>\n",
              "      <td>2.0</td>\n",
              "      <td>37.797716</td>\n",
              "      <td>-122.430559</td>\n",
              "      <td>POINT (-122.43055896140594 37.79771621229674)</td>\n",
              "      <td>15.0</td>\n",
              "      <td>4.0</td>\n",
              "      <td>6.0</td>\n",
              "      <td>13.0</td>\n",
              "      <td>NaN</td>\n",
              "      <td>NaN</td>\n",
              "      <td>NaN</td>\n",
              "      <td>NaN</td>\n",
              "      <td>NaN</td>\n",
              "      <td>1.0</td>\n",
              "    </tr>\n",
              "  </tbody>\n",
              "</table>\n",
              "</div>"
            ],
            "text/plain": [
              "          Incident Datetime  ... Areas of Vulnerability, 2016\n",
              "0 2019-05-01 01:00:00+00:00  ...                          1.0\n",
              "1 2019-06-22 07:45:00+00:00  ...                          2.0\n",
              "2 2019-06-03 16:16:00+00:00  ...                          2.0\n",
              "3 2018-11-16 16:34:00+00:00  ...                          2.0\n",
              "4 2019-05-27 02:25:00+00:00  ...                          1.0\n",
              "\n",
              "[5 rows x 36 columns]"
            ]
          },
          "metadata": {
            "tags": []
          },
          "execution_count": 13
        }
      ]
    },
    {
      "cell_type": "code",
      "metadata": {
        "id": "q9yHvT2EOpeF",
        "colab_type": "code",
        "colab": {}
      },
      "source": [
        "new_crime['Incident Time Datetime'] = new_crime['Incident Time'].apply(reformat_2)\n",
        "new_crime['Incident Datetime'] = new_crime['Incident Datetime'].dt.tz_convert(None)\n",
        "new_crime['month'] = new_crime['Incident Datetime'].dt.month"
      ],
      "execution_count": 0,
      "outputs": []
    },
    {
      "cell_type": "code",
      "metadata": {
        "id": "k9KvMVrV53Pk",
        "colab_type": "code",
        "colab": {}
      },
      "source": [
        "# Hacky approach to replace later\n",
        "# Just replace : with . and convert to float\n",
        "\n",
        "def to_float(time_string):\n",
        "  processed_str = time_string.replace(\":\", \".\")\n",
        "  as_float = float(processed_str)\n",
        "  return as_float\n",
        "\n",
        "new_crime['Incident Time'] = new_crime['Incident Time'].apply(to_float)"
      ],
      "execution_count": 0,
      "outputs": []
    },
    {
      "cell_type": "code",
      "metadata": {
        "id": "LzYt54pig6Lr",
        "colab_type": "code",
        "outputId": "afe976e1-8136-4b40-c4df-fb46149b6a3c",
        "colab": {
          "base_uri": "https://localhost:8080/",
          "height": 265
        }
      },
      "source": [
        "from pylab import hist, show, xticks\n",
        "# Skyline\n",
        "\n",
        "color = [[(253/255,211/255,35/255)]]\n",
        "#background = (100/255,85/255,28/255)\n",
        "background = (0/255,0/255,0/255)\n",
        "\n",
        "# Slightly dirtier\n",
        "#color = [[(207/255,179/255,28/255)]]\n",
        "\n",
        "ax = new_crime['Incident Time'].plot.hist(bins=24, alpha=1.0, color=color)\n",
        "ax.set_facecolor(background)\n",
        "\n",
        "#new_crime['Incident Time Datetime'].plot(kind=\"bar\")\n",
        "#xticks(range(0, 24))\n",
        "show()\n",
        "\n"
      ],
      "execution_count": 22,
      "outputs": [
        {
          "output_type": "display_data",
          "data": {
            "image/png": "[encoded data removed]",
            "text/plain": [
              "<Figure size 432x288 with 1 Axes>"
            ]
          },
          "metadata": {
            "tags": []
          }
        }
      ]
    },
    {
      "cell_type": "code",
      "metadata": {
        "id": "V68vYsnuvFox",
        "colab_type": "code",
        "colab": {
          "base_uri": "https://localhost:8080/",
          "height": 265
        },
        "outputId": "fc247a94-3946-4dd1-8e9f-4f1438a3fff0"
      },
      "source": [
        "color = [[(253/255,211/255,35/255)]]\n",
        "#background = (100/255,85/255,28/255)\n",
        "background = (0/255,0/255,0/255)\n",
        "\n",
        "# Slightly dirtier\n",
        "#color = [[(207/255,179/255,28/255)]]\n",
        "colors=['r']\n",
        "# color each month appropriately \n",
        "ax = new_crime['month'].plot.hist(bins=12, alpha=1.0, color=colors)\n",
        "ax.set_facecolor(background)\n",
        "\n",
        "#new_crime['Incident Time Datetime'].plot(kind=\"bar\")\n",
        "#xticks(range(0, 24))\n",
        "show()\n"
      ],
      "execution_count": 23,
      "outputs": [
        {
          "output_type": "display_data",
          "data": {
            "image/png": "[encoded data removed]",
            "text/plain": [
              "<Figure size 432x288 with 1 Axes>"
            ]
          },
          "metadata": {
            "tags": []
          }
        }
      ]
    },
    {
      "cell_type": "code",
      "metadata": {
        "id": "27loAu9HIbUe",
        "colab_type": "code",
        "colab": {
          "base_uri": "https://localhost:8080/",
          "height": 238
        },
        "outputId": "ba421531-86b1-4358-e7da-49a2dae93ecf"
      },
      "source": [
        "new_crime['month'].value_counts()"
      ],
      "execution_count": 24,
      "outputs": [
        {
          "output_type": "execute_result",
          "data": {
            "text/plain": [
              "1     37153\n",
              "2     29067\n",
              "8     27594\n",
              "7     26881\n",
              "10    26850\n",
              "9     25615\n",
              "5     25234\n",
              "12    24492\n",
              "6     24488\n",
              "4     24282\n",
              "3     24277\n",
              "11    24127\n",
              "Name: month, dtype: int64"
            ]
          },
          "metadata": {
            "tags": []
          },
          "execution_count": 24
        }
      ]
    },
    {
      "cell_type": "code",
      "metadata": {
        "id": "KNpQFvisHcQk",
        "colab_type": "code",
        "colab": {}
      },
      "source": [
        "cut = pd.cut(new_crime['month'], bins=12)"
      ],
      "execution_count": 0,
      "outputs": []
    }
  ]
}